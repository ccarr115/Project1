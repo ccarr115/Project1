{
 "cells": [
  {
   "cell_type": "code",
   "execution_count": 1,
   "metadata": {},
   "outputs": [],
   "source": [
    "def package_url_rent(page):\n",
    "    return 'https://streeteasy.com/rentals='+ page"
   ]
  },
  {
   "cell_type": "code",
   "execution_count": 2,
   "metadata": {},
   "outputs": [],
   "source": [
    "def package_url_sale(page):\n",
    "    return 'https://streeteasy.com/for-sale/nyc=' + page"
   ]
  },
  {
   "cell_type": "code",
   "execution_count": 3,
   "metadata": {},
   "outputs": [],
   "source": [
    "from bs4 import BeautifulSoup\n",
    "import urllib.request\n",
    "import pandas as pd\n",
    "import numpy as np\n",
    "import random\n",
    "import json\n",
    "import requests\n",
    "\n",
    "price =[]\n",
    "where =[]\n",
    "bed = []\n",
    "bath = []\n",
    "size =[]\n",
    "monthly = []\n",
    "steet = []"
   ]
  },
  {
   "cell_type": "code",
   "execution_count": 4,
   "metadata": {},
   "outputs": [
    {
     "ename": "SyntaxError",
     "evalue": "invalid syntax (<ipython-input-4-9f943bb26d56>, line 28)",
     "output_type": "error",
     "traceback": [
      "\u001b[1;36m  File \u001b[1;32m\"<ipython-input-4-9f943bb26d56>\"\u001b[1;36m, line \u001b[1;32m28\u001b[0m\n\u001b[1;33m    print str(mylist)\u001b[0m\n\u001b[1;37m            ^\u001b[0m\n\u001b[1;31mSyntaxError\u001b[0m\u001b[1;31m:\u001b[0m invalid syntax\n"
     ]
    }
   ],
   "source": [
    "for x in range(10): #loop through all pages\n",
    "    url=package_url_rent(str(x))\n",
    "    openurl= urllib.request.install_opener\n",
    "    import urllib.request \n",
    "    soup = BeautifulSoup(html,'html.parser')\n",
    "    lst = soup.find_all(lambda tag: tag.has_attr('data-id'))\n",
    "    for i in range(len(lst)):\n",
    "        #price\n",
    "        if lst[i].find_all('span',{'class':'price'})==[]:\n",
    "            price.append('')\n",
    "        else:\n",
    "            price.append(lst[i].find_all('span',{'class':'price'})[0].string)\n",
    "        #bedroom\n",
    "        if(lst[i].find_all('span',{'class':'first_detail_cell'})==[]):\n",
    "            bed.append('')\n",
    "        else:\n",
    "            bed.append(lst[i].find_all('span',{'class':'first_detail_cell'})[0].string)\n",
    "        #bedroom\n",
    "        if(lst[i].find_all('span',{'class':'detail_cell'})==[]):\n",
    "            bath.append('')\n",
    "        else:\n",
    "            bath.append(lst[i].find_all('span',{'class':'detail_cell'})[0].string)\n",
    "        #size\n",
    "        if(lst[i].find_all('span',{'class':'last_detail_cell'})==[]):\n",
    "            size.append('')\n",
    "        else:\n",
    "            size.append(lst[i].find_all('span',{'class':'last_detail_cell'})[0].string)  \n",
    "print "
   ]
  },
  {
   "cell_type": "code",
   "execution_count": null,
   "metadata": {},
   "outputs": [],
   "source": [
    "import pandas as pd\n",
    "import numpy as np\n",
    "data = {'price':price,'where':where,'bed':bed, 'bath':bath, 'size':size,'furnished':0}\n",
    "df = pd.DataFrame(index=data, columns=['price', 'where', 'bed', 'bath','size','furnished'])\n",
    "\n",
    "#move from size to bath\n",
    "cond=[]\n",
    "for i in data['size']:\n",
    "    if(i==''):\n",
    "        cond.append(False)\n",
    "    else:\n",
    "        cond.append(i.split(\" \")[1] in ('bath','baths'))\n",
    "df.loc[cond,'bath']= df.loc[cond,'size'] \n",
    "df.loc[cond,'size']=''\n",
    "\n",
    "#move from bed to bath\n",
    "cond=[]\n",
    "for i in data['bed']:\n",
    "    if(i=='' or i=='Furnished' or i=='studio'):\n",
    "        cond.append(False)\n",
    "    else:\n",
    "        cond.append(i.split(\" \")[1] in ('bath','baths'))\n",
    "df.loc[cond,'bath']=df.loc[cond,'bed'] \n",
    "df.loc[cond,'bed']=''\n",
    "\n",
    "#move from bath to bed\n",
    "cond=[]\n",
    "for i in data['bath']:\n",
    "    if(i==''):\n",
    "        cond.append(False)\n",
    "    else:\n",
    "        if(len(i.split(\" \"))==1):\n",
    "            cond.append(True)\n",
    "        else:\n",
    "            if(i.split(\" \")[1] in ('bath','baths')):\n",
    "                cond.append(False)\n",
    "            else:\n",
    "                cond.append(True)\n",
    "df.loc[cond,'bed']=df.loc[cond,'bath'] \n",
    "df.loc[cond,'bath']=''\n",
    "\n",
    "#move from bed to size\n",
    "cond=[]\n",
    "for i in data['bed']:\n",
    "    if(i=='' or i=='studio'):\n",
    "        cond.append(False)\n",
    "    else:\n",
    "        if(i.split(\" \")[1] in ('bed','beds')):\n",
    "            cond.append(False)\n",
    "        else:\n",
    "            cond.append(True)\n",
    "df.loc[cond,'size']=df.loc[cond,'bed'] \n",
    "df.loc[cond,'bed']=''\n",
    "\n",
    "\n",
    "#replace blank with nan\n",
    "data=df.applymap(lambda x: np.nan if x=='' else x)\n",
    "\n",
    "#data\n",
    "df.to_csv('rent.csv',encoding='utf-8')"
   ]
  },
  {
   "cell_type": "code",
   "execution_count": null,
   "metadata": {},
   "outputs": [],
   "source": [
    "#size to numeric\n",
    "cond=data['size'].isnull()\n",
    "for i in range(0,len(cond)):\n",
    "    if (not cond[i]):\n",
    "        df.loc[i,'size']=int(data['size'][i].split(\" \")[0].replace(',',''))\n",
    "#bath to numeric\n",
    "cond=data['bath'].isnull()\n",
    "for i in range(0,len(cond)):\n",
    "    if (not cond[i]):\n",
    "        df.loc[i,'bath']=float(data['bath'][i].split(\" \")[0].replace('+',''))\n",
    "#bed to numeric\n",
    "cond=data['bed'].isnull()\n",
    "data['bed']=data['bed'].replace('studio','0 bed')\n",
    "for i in range(0,len(cond)):\n",
    "    if (not cond[i]):\n",
    "        df.loc[i,'bed']=float(data['bed'][i].split(\" \")[0].replace(',','').replace('+',''))\n",
    "\n",
    "df.to_csv('rent_2.csv')"
   ]
  }
 ],
 "metadata": {
  "kernelspec": {
   "display_name": "Python 3",
   "language": "python",
   "name": "python3"
  },
  "language_info": {
   "codemirror_mode": {
    "name": "ipython",
    "version": 3
   },
   "file_extension": ".py",
   "mimetype": "text/x-python",
   "name": "python",
   "nbconvert_exporter": "python",
   "pygments_lexer": "ipython3",
   "version": "3.7.3"
  }
 },
 "nbformat": 4,
 "nbformat_minor": 2
}
